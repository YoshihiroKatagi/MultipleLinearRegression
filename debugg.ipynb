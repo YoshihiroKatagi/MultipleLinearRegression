{
 "cells": [
  {
   "cell_type": "code",
   "execution_count": 8,
   "source": [
    "import numpy as np\r\n",
    "import matplotlib.pyplot as plt\r\n",
    "import pandas as pd\r\n",
    "import csv"
   ],
   "outputs": [],
   "metadata": {}
  },
  {
   "cell_type": "code",
   "execution_count": 9,
   "source": [
    "N = 5\r\n",
    "D = 48\r\n",
    "T = 480 * 2\r\n",
    "num_of_header = 5\r\n",
    "num_of_col = 2      # 2 or 3 (channel of goniometer)\r\n",
    "path = \"C:/Users/katagi/Desktop/Workspace/MultipleLinearRegression/TestData/hirato_plantar1\"\r\n",
    "\r\n",
    "def read_csv():\r\n",
    "    Xs = list()\r\n",
    "    \r\n",
    "    Thetas = list()\r\n",
    "    \r\n",
    "    for n in range(N):\r\n",
    "        with open(path + \"/s\" + str(n+1) + \".csv\") as f:\r\n",
    "            reader = csv.reader(f)\r\n",
    "            X = list()\r\n",
    "            for t, row in enumerate(reader):\r\n",
    "                if t % 2 == 0:\r\n",
    "                    x = np.append(np.array(row[:48]).astype(float), 1)\r\n",
    "                    X.append(x)\r\n",
    "            X = np.array(X)\r\n",
    "            Xs.append(X)\r\n",
    "            \r\n",
    "        with open(path + \"/g\" + str(n+1) + \".csv\") as f:\r\n",
    "            reader = csv.reader(f)\r\n",
    "            Theta = list()\r\n",
    "            for t, row in enumerate(reader):\r\n",
    "                if t > num_of_header:\r\n",
    "                    Theta.append(row[num_of_col])\r\n",
    "            Thetas.append(Theta)\r\n",
    "    \r\n",
    "    Xs = np.array(Xs)\r\n",
    "    Thetas = np.array(Thetas).astype(float)[:, :, np.newaxis]\r\n",
    "    return Xs, Thetas"
   ],
   "outputs": [],
   "metadata": {}
  },
  {
   "cell_type": "code",
   "execution_count": 10,
   "source": [
    "def visualize(y, y_pred):\r\n",
    "    x = np.arange(y.shape[0])\r\n",
    "    y = y.reshape(-1)\r\n",
    "    y_pred = y_pred.reshape(-1)\r\n",
    "    \r\n",
    "    # plt.title('Wrist angle')\r\n",
    "    plt.xlabel('Time [ms]')\r\n",
    "    plt.ylabel('angle')\r\n",
    "    plt.plot(x,y_pred,color='blue',linewidth=2,label='Estimated angle')\r\n",
    "    plt.plot(x, y ,color='red',linewidth=1,label='Measured angle', )\r\n",
    "    # plt.ylim(-60,30)    #dorsi\r\n",
    "    plt.ylim(-20,40)    #plantar\r\n",
    "    plt.xlim(0, y.shape[0])\r\n",
    "    plt.legend(loc='upper left',fontsize=10)\r\n",
    "    plt.grid(True)\r\n",
    "    \r\n",
    "    plt.figure(figsize=(4,4))\r\n",
    "    plt.title('scatter plot')\r\n",
    "    plt.scatter(y ,y_pred)\r\n",
    "    \r\n",
    "    plt.show()"
   ],
   "outputs": [],
   "metadata": {}
  },
  {
   "cell_type": "code",
   "execution_count": 11,
   "source": [
    "def Analysis(X, theta):\r\n",
    "    W = list()\r\n",
    "    X = np.transpose(X, (1, 0, 2)) #(480, 4, 49)\r\n",
    "    theta = np.transpose(theta, (1, 0, 2)) #(480, 4, 1)\r\n",
    "    print(X.shape, theta.shape)\r\n",
    "    for X_t, theta_t in zip(X, theta):\r\n",
    "        X_T_t = X_t.T\r\n",
    "        X_T_X_inv = np.linalg.pinv(np.dot(X_T_t, X_t))\r\n",
    "        W_t = np.dot(np.dot(X_T_X_inv, X_T_t), theta_t)\r\n",
    "        W.append(W_t)\r\n",
    "    W = np.array(W)\r\n",
    "#     W = np.transpose(W, (1, 0, 2)) #(49, 480, 1)\r\n",
    "    W = np.reshape(W, (480, 49))\r\n",
    "    return W"
   ],
   "outputs": [],
   "metadata": {}
  },
  {
   "cell_type": "code",
   "execution_count": 12,
   "source": [
    "def Calculate_R2andRMSE(Theta, Theta_pred, T):\r\n",
    "    Theta = Theta.reshape(-1)\r\n",
    "    \r\n",
    "    def _R2(Theta, Theta_pred):\r\n",
    "        corrcoef = np.corrcoef(Theta, Theta_pred)\r\n",
    "        corrcoef = corrcoef[0][1]\r\n",
    "        return corrcoef\r\n",
    "        \r\n",
    "        \r\n",
    "    def _RMSE(Theta, Theta_pred, T):\r\n",
    "        L = np.sum((Theta - Theta_pred)**2)\r\n",
    "        RMSE = np.sqrt(L/T)\r\n",
    "        return RMSE\r\n",
    "    \r\n",
    "    print(Theta.shape, Theta_pred.shape)\r\n",
    "    \r\n",
    "    print(\"相関係数： \" + str(_R2(Theta, Theta_pred)))\r\n",
    "    print(\"RMSE = \" + str(_RMSE(Theta, Theta_pred, T)))"
   ],
   "outputs": [],
   "metadata": {}
  },
  {
   "cell_type": "code",
   "execution_count": 13,
   "source": [
    "def main():\r\n",
    "    Xs, Thetas = read_csv()\r\n",
    "    for i in range(5):\r\n",
    "#         X_train, Theta_train = Xs[:4], Thetas[:4] #(4, 480, 49), (4, 480, 1)\r\n",
    "#         X_test, Theta_test = Xs[-1], Thetas[-1] #(1, 480, 49), (1, 480, 1)\r\n",
    "\r\n",
    "#         W = Analysis(X_train, Theta_train) #W >> (49, 480, 1)\r\n",
    "\r\n",
    "#         for X, Theta in zip(Xs, Thetas): #Theta_pred >> (1, 480, 1) = W() * X(480)\r\n",
    "#             Theta_pred = list()\r\n",
    "#             for X_t, W_t in zip(X, W):\r\n",
    "#                 Theta_pred.append(np.dot(W_t, X_t))\r\n",
    "#             Theta_pred = np.array(Theta_pred)\r\n",
    "#             print(Theta_pred.shape)\r\n",
    "#             visualize(Theta, Theta_pred)\r\n",
    "        if i == 0:\r\n",
    "            X_train, Theta_train = Xs[1:], Thetas[1:]\r\n",
    "        elif i == 4:\r\n",
    "            X_train, Theta_train = Xs[:-1], Thetas[:-1]\r\n",
    "        else:\r\n",
    "            X_train, Theta_train = np.concatenate([Xs[:i], Xs[i+1:]]), np.concatenate([Thetas[:i] , Thetas[i+1:]])\r\n",
    "            print(X_train.shape, Theta_train.shape)\r\n",
    "        X_test, Theta_test = Xs[i], Thetas[i]\r\n",
    "        W = Analysis(X_train, Theta_train) #W >> (49, 480, 1)\r\n",
    "        Theta_pred = list()\r\n",
    "        for X_t, W_t in zip(X_test, W):\r\n",
    "            Theta_pred.append(np.dot(W_t, X_t))\r\n",
    "        Theta_pred = np.array(Theta_pred)\r\n",
    "        visualize(Theta_test, Theta_pred)\r\n",
    "        Calculate_R2andRMSE(Theta_test, Theta_pred, 480)\r\n",
    "\r\n",
    "#         for X, Theta in zip(Xs, Thetas): #Theta_pred >> (1, 480, 1) = W() * X(480)\r\n",
    "#             Theta_pred = list()\r\n",
    "#             for X_t, W_t in zip(X, W):\r\n",
    "#                 Theta_pred.append(np.dot(W_t, X_t))\r\n",
    "#             Theta_pred = np.array(Theta_pred)\r\n",
    "#             print(Theta_pred.shape)\r\n",
    "#             visualize(Theta, Theta_pred)"
   ],
   "outputs": [],
   "metadata": {}
  },
  {
   "cell_type": "code",
   "execution_count": 14,
   "source": [
    "main()"
   ],
   "outputs": [
    {
     "output_type": "error",
     "ename": "FileNotFoundError",
     "evalue": "[Errno 2] No such file or directory: 'C:/Users/katagi/Desktop/Workspace/TestData/hirato_plantar1/s1.csv'",
     "traceback": [
      "\u001b[1;31m---------------------------------------------------------------------------\u001b[0m",
      "\u001b[1;31mFileNotFoundError\u001b[0m                         Traceback (most recent call last)",
      "\u001b[1;32m<ipython-input-14-263240bbee7e>\u001b[0m in \u001b[0;36m<module>\u001b[1;34m\u001b[0m\n\u001b[1;32m----> 1\u001b[1;33m \u001b[0mmain\u001b[0m\u001b[1;33m(\u001b[0m\u001b[1;33m)\u001b[0m\u001b[1;33m\u001b[0m\u001b[1;33m\u001b[0m\u001b[0m\n\u001b[0m",
      "\u001b[1;32m<ipython-input-13-e51ea07c1fe1>\u001b[0m in \u001b[0;36mmain\u001b[1;34m()\u001b[0m\n\u001b[0;32m      1\u001b[0m \u001b[1;32mdef\u001b[0m \u001b[0mmain\u001b[0m\u001b[1;33m(\u001b[0m\u001b[1;33m)\u001b[0m\u001b[1;33m:\u001b[0m\u001b[1;33m\u001b[0m\u001b[1;33m\u001b[0m\u001b[0m\n\u001b[1;32m----> 2\u001b[1;33m     \u001b[0mXs\u001b[0m\u001b[1;33m,\u001b[0m \u001b[0mThetas\u001b[0m \u001b[1;33m=\u001b[0m \u001b[0mread_csv\u001b[0m\u001b[1;33m(\u001b[0m\u001b[1;33m)\u001b[0m\u001b[1;33m\u001b[0m\u001b[1;33m\u001b[0m\u001b[0m\n\u001b[0m\u001b[0;32m      3\u001b[0m     \u001b[1;32mfor\u001b[0m \u001b[0mi\u001b[0m \u001b[1;32min\u001b[0m \u001b[0mrange\u001b[0m\u001b[1;33m(\u001b[0m\u001b[1;36m5\u001b[0m\u001b[1;33m)\u001b[0m\u001b[1;33m:\u001b[0m\u001b[1;33m\u001b[0m\u001b[1;33m\u001b[0m\u001b[0m\n\u001b[0;32m      4\u001b[0m \u001b[1;31m#         X_train, Theta_train = Xs[:4], Thetas[:4] #(4, 480, 49), (4, 480, 1)\u001b[0m\u001b[1;33m\u001b[0m\u001b[1;33m\u001b[0m\u001b[1;33m\u001b[0m\u001b[0m\n\u001b[0;32m      5\u001b[0m \u001b[1;31m#         X_test, Theta_test = Xs[-1], Thetas[-1] #(1, 480, 49), (1, 480, 1)\u001b[0m\u001b[1;33m\u001b[0m\u001b[1;33m\u001b[0m\u001b[1;33m\u001b[0m\u001b[0m\n",
      "\u001b[1;32m<ipython-input-9-0ecd29a4b435>\u001b[0m in \u001b[0;36mread_csv\u001b[1;34m()\u001b[0m\n\u001b[0;32m     12\u001b[0m \u001b[1;33m\u001b[0m\u001b[0m\n\u001b[0;32m     13\u001b[0m     \u001b[1;32mfor\u001b[0m \u001b[0mn\u001b[0m \u001b[1;32min\u001b[0m \u001b[0mrange\u001b[0m\u001b[1;33m(\u001b[0m\u001b[0mN\u001b[0m\u001b[1;33m)\u001b[0m\u001b[1;33m:\u001b[0m\u001b[1;33m\u001b[0m\u001b[1;33m\u001b[0m\u001b[0m\n\u001b[1;32m---> 14\u001b[1;33m         \u001b[1;32mwith\u001b[0m \u001b[0mopen\u001b[0m\u001b[1;33m(\u001b[0m\u001b[0mpath\u001b[0m \u001b[1;33m+\u001b[0m \u001b[1;34m\"/s\"\u001b[0m \u001b[1;33m+\u001b[0m \u001b[0mstr\u001b[0m\u001b[1;33m(\u001b[0m\u001b[0mn\u001b[0m\u001b[1;33m+\u001b[0m\u001b[1;36m1\u001b[0m\u001b[1;33m)\u001b[0m \u001b[1;33m+\u001b[0m \u001b[1;34m\".csv\"\u001b[0m\u001b[1;33m)\u001b[0m \u001b[1;32mas\u001b[0m \u001b[0mf\u001b[0m\u001b[1;33m:\u001b[0m\u001b[1;33m\u001b[0m\u001b[1;33m\u001b[0m\u001b[0m\n\u001b[0m\u001b[0;32m     15\u001b[0m             \u001b[0mreader\u001b[0m \u001b[1;33m=\u001b[0m \u001b[0mcsv\u001b[0m\u001b[1;33m.\u001b[0m\u001b[0mreader\u001b[0m\u001b[1;33m(\u001b[0m\u001b[0mf\u001b[0m\u001b[1;33m)\u001b[0m\u001b[1;33m\u001b[0m\u001b[1;33m\u001b[0m\u001b[0m\n\u001b[0;32m     16\u001b[0m             \u001b[0mX\u001b[0m \u001b[1;33m=\u001b[0m \u001b[0mlist\u001b[0m\u001b[1;33m(\u001b[0m\u001b[1;33m)\u001b[0m\u001b[1;33m\u001b[0m\u001b[1;33m\u001b[0m\u001b[0m\n",
      "\u001b[1;31mFileNotFoundError\u001b[0m: [Errno 2] No such file or directory: 'C:/Users/katagi/Desktop/Workspace/TestData/hirato_plantar1/s1.csv'"
     ]
    }
   ],
   "metadata": {}
  }
 ],
 "metadata": {
  "kernelspec": {
   "name": "python3",
   "display_name": "Python 3.8.10 64-bit ('sklearn': conda)"
  },
  "language_info": {
   "codemirror_mode": {
    "name": "ipython",
    "version": 3
   },
   "file_extension": ".py",
   "mimetype": "text/x-python",
   "name": "python",
   "nbconvert_exporter": "python",
   "pygments_lexer": "ipython3",
   "version": "3.8.10"
  },
  "interpreter": {
   "hash": "1bfa08f52aa6c9f0fff767f69a9c5dd12c2d82cd75ef4f1a92410a97d20bdab4"
  }
 },
 "nbformat": 4,
 "nbformat_minor": 5
}